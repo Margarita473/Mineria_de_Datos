{
 "cells": [
  {
   "cell_type": "markdown",
   "metadata": {},
   "source": [
    "$$UNIVERSIDAD\\hspace{1mm} AUTÓNOMA\\hspace{1mm} DE\\hspace{1mm} NUEVO\\hspace{1mm} LEÓN $$$$Facultad\\hspace{1mm}  de\\hspace {1mm}Ciencias\\hspace{1mm} Físico-Matemáticas $$$$Mineria\\hspace{1mm}de\\hspace{1mm}Datos$$$$\\hspace{1mm}$$"
   ]
  },
  {
   "cell_type": "markdown",
   "metadata": {},
   "source": [
    "## Ejercicios Básicos"
   ]
  },
  {
   "cell_type": "markdown",
   "metadata": {},
   "source": [
    "**Ejercicio 1:** <br>\n",
    "Realiza una variable con tu matricula y realiza una secuencia de imprimir con tu nombre y tu matricula concatenados."
   ]
  },
  {
   "cell_type": "code",
   "execution_count": 1,
   "metadata": {},
   "outputs": [
    {
     "name": "stdout",
     "output_type": "stream",
     "text": [
      "Introduce tu matricula: 1802473\n",
      "Introduce tu nombre: Margarita Ordaz Ruiz\n",
      "Te llamas  Margarita Ordaz Ruiz y tu matricula es:  1802473\n"
     ]
    }
   ],
   "source": [
    "matricula = int(input(\"Introduce tu matricula: \"))\n",
    "nombre = input(\"Introduce tu nombre: \")\n",
    "print (\"Te llamas \",nombre,\"y tu matricula es: \",matricula)"
   ]
  },
  {
   "cell_type": "markdown",
   "metadata": {},
   "source": [
    "**Ejercicio 2:** <br>\n",
    "Pidiendo el input del usuario pide dos números y crea una pequeña calculadora con los operadores básicos de suma, resta, multiplicación, división, y exponente. <br>"
   ]
  },
  {
   "cell_type": "code",
   "execution_count": 2,
   "metadata": {},
   "outputs": [
    {
     "name": "stdout",
     "output_type": "stream",
     "text": [
      "Introduce un número:2\n",
      "Introduce otro número: 8\n",
      "La suma de los 2 números es:  10.0\n",
      "La resta del primer número menos el segundo es:  -6.0\n",
      "La resta del segundo número menos el primero es:  6.0\n",
      "La multiplicación de los 2 números es:  16.0\n",
      "La división del primer número entre el segundo es:  0.25\n",
      "La división del segundo número entre el primero es:  4.0\n",
      "La primer número elevado al segundo número es:  256.0\n",
      "La segundo número elevado al primer número es:  64.0\n"
     ]
    }
   ],
   "source": [
    "a = float(input(\"Introduce un número:\" ))\n",
    "b = float(input(\"Introduce otro número: \"))\n",
    "\n",
    "s = a + b\n",
    "r = a - b\n",
    "m = a * b\n",
    "d = a/b\n",
    "e = a**b\n",
    "e1= b**a\n",
    "\n",
    "print(\"La suma de los 2 números es: \",s)\n",
    "print(\"La resta del primer número menos el segundo es: \",r)\n",
    "print(\"La resta del segundo número menos el primero es: \",-r)\n",
    "print(\"La multiplicación de los 2 números es: \",m)\n",
    "print(\"La división del primer número entre el segundo es: \",d)\n",
    "print(\"La división del segundo número entre el primero es: \",1/d)\n",
    "print(\"La primer número elevado al segundo número es: \",e)\n",
    "print(\"La segundo número elevado al primer número es: \",e1)"
   ]
  },
  {
   "cell_type": "markdown",
   "metadata": {},
   "source": [
    "**Ejercicio 3:** <br>\n",
    "Con loop while o for, realiza una lista de 10 numeros multiplos de 3, y después realiza una función de loop que sume todos los números dentro del arreglo."
   ]
  },
  {
   "cell_type": "code",
   "execution_count": 3,
   "metadata": {},
   "outputs": [
    {
     "name": "stdout",
     "output_type": "stream",
     "text": [
      "3,6,9,12,15,18,21,24,27,30,"
     ]
    }
   ],
   "source": [
    "for i in range (3,31,3):\n",
    "    print(i,end = \",\")"
   ]
  },
  {
   "cell_type": "code",
   "execution_count": 4,
   "metadata": {},
   "outputs": [
    {
     "name": "stdout",
     "output_type": "stream",
     "text": [
      "La suma de la lista de los 10 números es:  165\n"
     ]
    }
   ],
   "source": [
    "suma = 0\n",
    "for i in range (3,31,3):\n",
    "    suma = i + suma\n",
    "    \n",
    "print(\"La suma de la lista de los 10 números es: \",suma)"
   ]
  },
  {
   "cell_type": "markdown",
   "metadata": {},
   "source": [
    "**Ejercicio 4:**\n",
    "- Con una función de if else, revisar si un número es par o es impar."
   ]
  },
  {
   "cell_type": "code",
   "execution_count": 5,
   "metadata": {},
   "outputs": [
    {
     "name": "stdout",
     "output_type": "stream",
     "text": [
      "Introduce un número entero: 7\n",
      "El número que ingresaste es impar\n"
     ]
    }
   ],
   "source": [
    "num = int(input(\"Introduce un número entero: \"))\n",
    "if num % 2 == 0:\n",
    "    print(\"El número que ingresaste es par\")\n",
    "else:\n",
    "    print(\"El número que ingresaste es impar\")"
   ]
  },
  {
   "cell_type": "markdown",
   "metadata": {},
   "source": [
    "- Con una función de if else, revisar si un número es primo o no."
   ]
  },
  {
   "cell_type": "code",
   "execution_count": 6,
   "metadata": {},
   "outputs": [
    {
     "name": "stdout",
     "output_type": "stream",
     "text": [
      "Introduce un número entero: 17\n",
      "El número que ingresaste sí es primo\n"
     ]
    }
   ],
   "source": [
    "ban = 0\n",
    "primo = int(input(\"Introduce un número entero: \"))\n",
    "if primo == 1:\n",
    "    print(\"El número que ingresaste no es primo\")\n",
    "    ban = 1\n",
    "elif primo == 2:\n",
    "    print(\"El número que ingresaste sí es primo\")\n",
    "    ban = 1\n",
    "else:\n",
    "    for i in range(2,primo):\n",
    "        if primo%i == 0:\n",
    "            print(\"El número que ingresaste no es primo\")\n",
    "            ban = 1\n",
    "            break\n",
    "\n",
    "if ban == 0: \n",
    "    print(\"El número que ingresaste sí es primo\")\n",
    "    \n",
    "#https://medium.com/@eddydecena/validando-si-un-n%C3%BAmero-es-primo-en-python-a622cf6b4363"
   ]
  },
  {
   "cell_type": "markdown",
   "metadata": {},
   "source": [
    "**Ejercicio 5** <br>\n",
    "Utilizando diferentes clases en python, crea una calculadora con los operadores básicos de suma, resta, multiplicación, división, y exponente."
   ]
  },
  {
   "cell_type": "code",
   "execution_count": 7,
   "metadata": {},
   "outputs": [
    {
     "name": "stdout",
     "output_type": "stream",
     "text": [
      "El resultado de la suma de 256 + 35 es:  291\n",
      "El resultado de la resta de 125 - 35 es:  90\n",
      "El resultado de la multiplicación de 12 por 12 es:  144\n",
      "El resultado de la dvisión de 256 entre 8 es:  32.0\n",
      "El resultado de elevar 16 a la 4 potencia es:  65536\n"
     ]
    }
   ],
   "source": [
    "def Suma(a,b):\n",
    "    c = a + b \n",
    "    return c\n",
    "def Resta(a,b):\n",
    "    c = a - b \n",
    "    return c\n",
    "def Multiplicación(a,b):\n",
    "    c = a * b \n",
    "    return c\n",
    "def División(a,b):\n",
    "    c = a / b \n",
    "    return c\n",
    "def Exponente(a,b):\n",
    "    c = a ** b \n",
    "    return c\n",
    "\n",
    "print (\"El resultado de la suma de 256 + 35 es: \", Suma(256,35))\n",
    "print (\"El resultado de la resta de 125 - 35 es: \", Resta(125,35))\n",
    "print (\"El resultado de la multiplicación de 12 por 12 es: \", Multiplicación(12,12))\n",
    "print (\"El resultado de la dvisión de 256 entre 8 es: \", División(256,8))\n",
    "print (\"El resultado de elevar 16 a la 4 potencia es: \", Exponente(16,4))"
   ]
  },
  {
   "cell_type": "markdown",
   "metadata": {},
   "source": [
    "### Ejercicios con estructuras básicas de python."
   ]
  },
  {
   "cell_type": "markdown",
   "metadata": {},
   "source": [
    "**Tuplas**\n",
    "- Crear una variable flotante, integer, boleana y compleja e imprimir el tipo de variable que es."
   ]
  },
  {
   "cell_type": "code",
   "execution_count": 8,
   "metadata": {},
   "outputs": [
    {
     "name": "stdout",
     "output_type": "stream",
     "text": [
      "Los tipos de variables son: \n",
      "flota:  <class 'float'>\n",
      "ent:  <class 'int'>\n",
      "bol:  <class 'bool'>\n",
      "comp:  <class 'complex'>\n"
     ]
    }
   ],
   "source": [
    "flota = 25.25\n",
    "ent = 7\n",
    "bol = True\n",
    "comp = 5 + 2j\n",
    "print(\"Los tipos de variables son: \") \n",
    "print(\"flota: \",type(flota))\n",
    "print(\"ent: \",type(ent))\n",
    "print(\"bol: \",type(bol))\n",
    "print(\"comp: \",type(comp))"
   ]
  },
  {
   "cell_type": "markdown",
   "metadata": {},
   "source": [
    "- Crear una tupla con valores enteros imprimir el primer y ultimo valor."
   ]
  },
  {
   "cell_type": "code",
   "execution_count": 9,
   "metadata": {},
   "outputs": [
    {
     "name": "stdout",
     "output_type": "stream",
     "text": [
      "El primer número de la tupla es:  2 y el último es:  10\n"
     ]
    }
   ],
   "source": [
    "tupla = (2,4,6,8,10)\n",
    "print(\"El primer número de la tupla es: \",tupla[0],\"y el último es: \",tupla[-1])"
   ]
  },
  {
   "cell_type": "markdown",
   "metadata": {},
   "source": [
    "- Añadir 3 valores de string a la tupla."
   ]
  },
  {
   "cell_type": "code",
   "execution_count": 10,
   "metadata": {},
   "outputs": [
    {
     "data": {
      "text/plain": [
       "(2, 4, 6, 8, 10, 'Margarita', 'Ordaz', 'Ruiz')"
      ]
     },
     "execution_count": 10,
     "metadata": {},
     "output_type": "execute_result"
    }
   ],
   "source": [
    "tupla = tupla.__add__((\"Margarita\",\"Ordaz\",\"Ruiz\"))\n",
    "tupla"
   ]
  },
  {
   "cell_type": "markdown",
   "metadata": {},
   "source": [
    "- Verificar si una variable existe dentro de la tupla."
   ]
  },
  {
   "cell_type": "code",
   "execution_count": 11,
   "metadata": {},
   "outputs": [
    {
     "data": {
      "text/plain": [
       "True"
      ]
     },
     "execution_count": 11,
     "metadata": {},
     "output_type": "execute_result"
    }
   ],
   "source": [
    "6 in tupla"
   ]
  },
  {
   "cell_type": "markdown",
   "metadata": {},
   "source": [
    "**Listas**\n",
    "- Crear una lista con 40 elementos aleatorios enteros."
   ]
  },
  {
   "cell_type": "code",
   "execution_count": 12,
   "metadata": {},
   "outputs": [
    {
     "name": "stdout",
     "output_type": "stream",
     "text": [
      "La lista es:  [72, 54, 64, 60, 97, 54, 47, 34, 1, 43, 74, 6, 39, 75, 74, 2, 66, 60, 3, 51, 97, 52, 92, 89, 97, 59, 55, 6, 94, 29, 75, 45, 53, 93, 36, 96, 73, 79, 34, 66]\n",
      "La longitud de la lista es:  40\n"
     ]
    }
   ],
   "source": [
    "import random as r\n",
    "lista = [r.randint(1, 100)]\n",
    "for i in range(1,40):\n",
    "    lista1 = [r.randint(1, 100)]\n",
    "    lista = lista + lista1 \n",
    "print(\"La lista es: \",lista)\n",
    "print(\"La longitud de la lista es: \",len(lista))"
   ]
  },
  {
   "cell_type": "markdown",
   "metadata": {},
   "source": [
    "- Con una funcion (def) crear dos listas nuevas a partir de la lista creada por numeros aleatorios, en la cual en una esten los elementos pares, y en la otra los elementos impares."
   ]
  },
  {
   "cell_type": "code",
   "execution_count": 13,
   "metadata": {},
   "outputs": [],
   "source": [
    "def Pares(la_lista):\n",
    "    par = []\n",
    "    impar = []\n",
    "    for i in la_lista:\n",
    "        if i % 2 == 0:\n",
    "            lpar = [i]\n",
    "            par = par + lpar\n",
    "        else:\n",
    "            limpar = [i]\n",
    "            impar = impar + limpar\n",
    "    return  par, impar"
   ]
  },
  {
   "cell_type": "markdown",
   "metadata": {},
   "source": [
    "_En esta línea imprimo ambas listas_"
   ]
  },
  {
   "cell_type": "code",
   "execution_count": 14,
   "metadata": {},
   "outputs": [
    {
     "name": "stdout",
     "output_type": "stream",
     "text": [
      "Lista de números pares:  [72, 54, 64, 60, 54, 34, 74, 6, 74, 2, 66, 60, 52, 92, 6, 94, 36, 96, 34, 66]\n",
      "Lista de números impares:  [97, 47, 1, 43, 39, 75, 3, 51, 97, 89, 97, 59, 55, 29, 75, 45, 53, 93, 73, 79]\n"
     ]
    }
   ],
   "source": [
    "par, impar = Pares(lista) \n",
    "print(\"Lista de números pares: \",par)\n",
    "print(\"Lista de números impares: \",impar) #https://www.mclibre.org/consultar/python/lecciones/python-funciones-2.html"
   ]
  },
  {
   "cell_type": "markdown",
   "metadata": {},
   "source": [
    "- Crear dos variables con la longitud de ambas listas nuevas e imprimir las variables."
   ]
  },
  {
   "cell_type": "code",
   "execution_count": 15,
   "metadata": {},
   "outputs": [
    {
     "name": "stdout",
     "output_type": "stream",
     "text": [
      "La longitud de la lista con números pares es de:  20\n",
      "La longitud de la lista con números impares es de:  20\n"
     ]
    }
   ],
   "source": [
    "tp = len(par)\n",
    "ti = len(impar)\n",
    "print(\"La longitud de la lista con números pares es de: \",tp)\n",
    "print(\"La longitud de la lista con números impares es de: \",ti)"
   ]
  },
  {
   "cell_type": "markdown",
   "metadata": {},
   "source": [
    "- Ordenar los elementos de la lista par de mayor a menor, y los de la lista impar de menor a mayor."
   ]
  },
  {
   "cell_type": "code",
   "execution_count": 16,
   "metadata": {},
   "outputs": [
    {
     "name": "stdout",
     "output_type": "stream",
     "text": [
      "La lista de pares ordenada de mayor a menor es:  [2, 6, 6, 34, 34, 36, 52, 54, 54, 60, 60, 64, 66, 66, 72, 74, 74, 92, 94, 96]\n",
      "La lista de impares ordenada de menor a mayor es:  [97, 97, 97, 93, 89, 79, 75, 75, 73, 59, 55, 53, 51, 47, 45, 43, 39, 29, 3, 1]\n"
     ]
    }
   ],
   "source": [
    "print(\"La lista de pares ordenada de mayor a menor es: \",sorted(par))\n",
    "print(\"La lista de impares ordenada de menor a mayor es: \",sorted(impar, reverse=True))"
   ]
  },
  {
   "cell_type": "markdown",
   "metadata": {},
   "source": [
    "- Utilizar al menos cuatro de las funciones de listas en python en la lista original de 40 elementos. <br>\n",
    "**_Función append(3.14)_**, *agrega el número 3.14 al final de la lista*"
   ]
  },
  {
   "cell_type": "code",
   "execution_count": 17,
   "metadata": {},
   "outputs": [
    {
     "name": "stdout",
     "output_type": "stream",
     "text": [
      "[72, 54, 64, 60, 97, 54, 47, 34, 1, 43, 74, 6, 39, 75, 74, 2, 66, 60, 3, 51, 97, 52, 92, 89, 97, 59, 55, 6, 94, 29, 75, 45, 53, 93, 36, 96, 73, 79, 34, 66, 3.14]\n"
     ]
    }
   ],
   "source": [
    "lista.append(3.14)\n",
    "print(lista)"
   ]
  },
  {
   "cell_type": "markdown",
   "metadata": {},
   "source": [
    "**_Función pop()_**, *elimina el último número de la lista, en este caso 3.14*"
   ]
  },
  {
   "cell_type": "code",
   "execution_count": 18,
   "metadata": {},
   "outputs": [
    {
     "name": "stdout",
     "output_type": "stream",
     "text": [
      "[72, 54, 64, 60, 97, 54, 47, 34, 1, 43, 74, 6, 39, 75, 74, 2, 66, 60, 3, 51, 97, 52, 92, 89, 97, 59, 55, 6, 94, 29, 75, 45, 53, 93, 36, 96, 73, 79, 34, 66]\n"
     ]
    }
   ],
   "source": [
    "lista.pop()\n",
    "print(lista)"
   ]
  },
  {
   "cell_type": "markdown",
   "metadata": {},
   "source": [
    "**_Función remove(64)_**, *elimina el primer número 64 de la lista*"
   ]
  },
  {
   "cell_type": "code",
   "execution_count": 20,
   "metadata": {},
   "outputs": [
    {
     "name": "stdout",
     "output_type": "stream",
     "text": [
      "[72, 54, 60, 97, 54, 47, 34, 1, 43, 74, 6, 39, 75, 74, 2, 66, 60, 3, 51, 97, 52, 92, 89, 97, 59, 55, 6, 94, 29, 75, 45, 53, 93, 36, 96, 73, 79, 34, 66]\n"
     ]
    }
   ],
   "source": [
    "lista.remove(64)\n",
    "print(lista)"
   ]
  },
  {
   "cell_type": "markdown",
   "metadata": {},
   "source": [
    "**_Función insert(5,\"Hola\")_**, *inserta el strinh \"Hola\", en la posición 5 de la lista.*"
   ]
  },
  {
   "cell_type": "code",
   "execution_count": 21,
   "metadata": {},
   "outputs": [
    {
     "name": "stdout",
     "output_type": "stream",
     "text": [
      "[72, 54, 60, 97, 54, 'Hola', 47, 34, 1, 43, 74, 6, 39, 75, 74, 2, 66, 60, 3, 51, 97, 52, 92, 89, 97, 59, 55, 6, 94, 29, 75, 45, 53, 93, 36, 96, 73, 79, 34, 66]\n"
     ]
    }
   ],
   "source": [
    "lista.insert(5,\"Hola\")\n",
    "print(lista)"
   ]
  },
  {
   "cell_type": "markdown",
   "metadata": {},
   "source": [
    "**_Función extend()_**, *también nos permite agregar elementos dentro de una lista, pero a diferencia de append al momento de agregar una lista, cada elemento de esta lista se agrega como un elemento más dentro de la otra lista.*"
   ]
  },
  {
   "cell_type": "code",
   "execution_count": 22,
   "metadata": {},
   "outputs": [
    {
     "name": "stdout",
     "output_type": "stream",
     "text": [
      "[72, 54, 60, 97, 54, 'Hola', 47, 34, 1, 43, 74, 6, 39, 75, 74, 2, 66, 60, 3, 51, 97, 52, 92, 89, 97, 59, 55, 6, 94, 29, 75, 45, 53, 93, 36, 96, 73, 79, 34, 66, 'F', 'C', 'F', 'M']\n"
     ]
    }
   ],
   "source": [
    "lista.extend([\"F\",\"C\",\"F\",\"M\"])\n",
    "print(lista)"
   ]
  },
  {
   "cell_type": "markdown",
   "metadata": {},
   "source": [
    "**_Función index()_**, *devuelve el número de indice del elemento que le pasemos por parámetro.*"
   ]
  },
  {
   "cell_type": "code",
   "execution_count": 23,
   "metadata": {
    "scrolled": true
   },
   "outputs": [
    {
     "data": {
      "text/plain": [
       "11"
      ]
     },
     "execution_count": 23,
     "metadata": {},
     "output_type": "execute_result"
    }
   ],
   "source": [
    "lista.index(6) #https://devcode.la/tutoriales/listas-python/#:~:text=Extend%20tambi%C3%A9n%20nos%20permite%20agregar,dentro%20de%20la%20otra%20lista."
   ]
  },
  {
   "cell_type": "markdown",
   "metadata": {},
   "source": [
    "**Diccionarios**\n",
    "- Crear un diccionario de 6 personas que conozcas con su primer nombre y su edad."
   ]
  },
  {
   "cell_type": "code",
   "execution_count": 24,
   "metadata": {},
   "outputs": [],
   "source": [
    "dic = {\"Fernanda\": 21, \"Jerhson\": 20, \"Alonso\": 19, \"Yanet\": 41, \"Roque\": 44, \"Adrián\": 17}"
   ]
  },
  {
   "cell_type": "markdown",
   "metadata": {},
   "source": [
    "- Crear una lista con los valores de la edad y reacomodar la lista de menor a mayor valor."
   ]
  },
  {
   "cell_type": "code",
   "execution_count": 25,
   "metadata": {},
   "outputs": [
    {
     "name": "stdout",
     "output_type": "stream",
     "text": [
      "Lista de valores ordenados -->  [17, 19, 20, 21, 41, 44]\n"
     ]
    }
   ],
   "source": [
    "edades = dic.values()\n",
    "print(\"Lista de valores ordenados --> \", sorted(list(edades)))"
   ]
  },
  {
   "cell_type": "markdown",
   "metadata": {},
   "source": [
    "- Usando el diccionario y un loop, imprimir solo los nombres."
   ]
  },
  {
   "cell_type": "code",
   "execution_count": 26,
   "metadata": {},
   "outputs": [
    {
     "name": "stdout",
     "output_type": "stream",
     "text": [
      "Fernanda\n",
      "Jerhson\n",
      "Alonso\n",
      "Yanet\n",
      "Roque\n",
      "Adrián\n"
     ]
    }
   ],
   "source": [
    "for i in dic:\n",
    "    print(i)"
   ]
  },
  {
   "cell_type": "markdown",
   "metadata": {},
   "source": [
    "- Añadir dos personas nuevas a tu diccionario, incluyendo edad."
   ]
  },
  {
   "cell_type": "code",
   "execution_count": 27,
   "metadata": {},
   "outputs": [
    {
     "name": "stdout",
     "output_type": "stream",
     "text": [
      "{'Fernanda': 21, 'Jerhson': 20, 'Alonso': 19, 'Yanet': 41, 'Roque': 44, 'Adrián': 17, 'Juan': 16, 'Vanely': 21}\n"
     ]
    }
   ],
   "source": [
    "dic[\"Juan\"] = 16\n",
    "dic[\"Vanely\"] = 21\n",
    "\n",
    "print(dic)"
   ]
  },
  {
   "cell_type": "markdown",
   "metadata": {},
   "source": [
    "**Sets**\n",
    "- Crea un set con 100 numeros aleatorios enteros del 1 al 25."
   ]
  },
  {
   "cell_type": "code",
   "execution_count": 28,
   "metadata": {},
   "outputs": [
    {
     "name": "stdout",
     "output_type": "stream",
     "text": [
      "El set es:  {1, 2, 3, 4, 5, 6, 7, 8, 9, 10, 11, 12, 13, 14, 15, 16, 17, 18, 19, 20, 21, 22, 23, 24, 25}\n"
     ]
    }
   ],
   "source": [
    "import random as r\n",
    "set1 = {r.randint(1, 25)}\n",
    "for i in range(1,100):\n",
    "    s2 = {r.randint(1, 25)}\n",
    "    set1 = set1 | s2\n",
    "print(\"El set es: \",set1)\n",
    "#https://recursospython.com/guias-y-manuales/conjuntos-sets/"
   ]
  },
  {
   "cell_type": "markdown",
   "metadata": {},
   "source": [
    "- Comprueba la longitud de tu set."
   ]
  },
  {
   "cell_type": "code",
   "execution_count": 29,
   "metadata": {},
   "outputs": [
    {
     "data": {
      "text/plain": [
       "25"
      ]
     },
     "execution_count": 29,
     "metadata": {},
     "output_type": "execute_result"
    }
   ],
   "source": [
    "len(set1)"
   ]
  },
  {
   "cell_type": "markdown",
   "metadata": {},
   "source": [
    "Como podemos ver la longitud es de 25, esto debido a que los sets consisten de valores únicos."
   ]
  },
  {
   "cell_type": "markdown",
   "metadata": {},
   "source": [
    "- Crea una lista de 5 numeros aleatorios del 1 al 10 y comprueba si cada valor aparece en el set inicial."
   ]
  },
  {
   "cell_type": "code",
   "execution_count": 30,
   "metadata": {},
   "outputs": [
    {
     "name": "stdout",
     "output_type": "stream",
     "text": [
      "La lista es:  [4, 8, 6, 7, 6]\n",
      "El número  4 sí aparece en la lista\n",
      "El número  8 sí aparece en la lista\n",
      "El número  6 sí aparece en la lista\n",
      "El número  7 sí aparece en la lista\n",
      "El número  6 sí aparece en la lista\n"
     ]
    }
   ],
   "source": [
    "import random as r\n",
    "l5 = [r.randint(1, 10)]\n",
    "for i in range(1,5):\n",
    "    la = [r.randint(1, 10)]\n",
    "    l5 = l5 + la \n",
    "print(\"La lista es: \",l5)\n",
    "\n",
    "for i in l5:\n",
    "    ap = i in set1\n",
    "    if ap == True:\n",
    "        print(\"El número \",i,\"sí aparece en la lista\")\n",
    "    else:\n",
    "        print(\"El número \",i,\"no aparece en la lista\")\n"
   ]
  }
 ],
 "metadata": {
  "kernelspec": {
   "display_name": "Python 3",
   "language": "python",
   "name": "python3"
  },
  "language_info": {
   "codemirror_mode": {
    "name": "ipython",
    "version": 3
   },
   "file_extension": ".py",
   "mimetype": "text/x-python",
   "name": "python",
   "nbconvert_exporter": "python",
   "pygments_lexer": "ipython3",
   "version": "3.7.4"
  }
 },
 "nbformat": 4,
 "nbformat_minor": 2
}
